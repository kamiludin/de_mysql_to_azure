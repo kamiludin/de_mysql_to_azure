{
 "cells": [
  {
   "cell_type": "code",
   "execution_count": null,
   "metadata": {
    "application/vnd.databricks.v1+cell": {
     "cellMetadata": {
      "byteLimit": 2048000,
      "rowLimit": 10000
     },
     "inputWidgets": {},
     "nuid": "cfe45342-c478-4c88-bf83-16aab1f7bc9e",
     "showTitle": false,
     "title": ""
    }
   },
   "outputs": [
    {
     "data": {
      "text/plain": [
       "True"
      ]
     },
     "execution_count": 3,
     "metadata": {},
     "output_type": "execute_result"
    }
   ],
   "source": [
    "# Mounting Azure Blob Storage to a Databricks filesystem\n",
    "\n",
    "dbutils.fs.mount(\n",
    "    source='wasbs://.....@......blob.core.windows.net', # container@storageacc\n",
    "    mount_point='/mnt/......', #container\n",
    "    extra_configs={\n",
    "        'fs.azure.account.key.mystorage2397.blob.core.windows.net': dbutils.secrets.get('.....', '......') # your secret scope's name (azure databricks), your secret's name (azure key vault)\n",
    "        }\n",
    ")"
   ]
  },
  {
   "cell_type": "code",
   "execution_count": null,
   "metadata": {
    "application/vnd.databricks.v1+cell": {
     "cellMetadata": {
      "byteLimit": 2048000,
      "rowLimit": 10000
     },
     "inputWidgets": {},
     "nuid": "3f4893c8-78e6-4f90-960c-56673ff97de9",
     "showTitle": false,
     "title": ""
    }
   },
   "outputs": [
    {
     "data": {
      "text/html": [
       "<style scoped>\n",
       "  .table-result-container {\n",
       "    max-height: 300px;\n",
       "    overflow: auto;\n",
       "  }\n",
       "  table, th, td {\n",
       "    border: 1px solid black;\n",
       "    border-collapse: collapse;\n",
       "  }\n",
       "  th, td {\n",
       "    padding: 5px;\n",
       "  }\n",
       "  th {\n",
       "    text-align: left;\n",
       "  }\n",
       "</style><div class='table-result-container'><table class='table-result'><thead style='background-color: white'><tr><th>path</th><th>name</th><th>size</th><th>modificationTime</th></tr></thead><tbody><tr><td>dbfs:/mnt/electric-vehicle-data/raw-data/</td><td>raw-data/</td><td>0</td><td>0</td></tr><tr><td>dbfs:/mnt/electric-vehicle-data/transformed-data/</td><td>transformed-data/</td><td>0</td><td>0</td></tr></tbody></table></div>"
      ]
     },
     "metadata": {
      "application/vnd.databricks.v1+output": {
       "addedWidgets": {},
       "aggData": [],
       "aggError": "",
       "aggOverflow": false,
       "aggSchema": [],
       "aggSeriesLimitReached": false,
       "aggType": "",
       "arguments": {},
       "columnCustomDisplayInfos": {},
       "data": [
        [
         "dbfs:/mnt/electric-vehicle-data/raw-data/",
         "raw-data/",
         0,
         0
        ],
        [
         "dbfs:/mnt/electric-vehicle-data/transformed-data/",
         "transformed-data/",
         0,
         0
        ]
       ],
       "datasetInfos": [],
       "dbfsResultPath": null,
       "isJsonSchema": true,
       "metadata": {
        "isDbfsCommandResult": false
       },
       "overflow": false,
       "plotOptions": {
        "customPlotOptions": {},
        "displayType": "table",
        "pivotAggregation": null,
        "pivotColumns": null,
        "xColumns": null,
        "yColumns": null
       },
       "removedWidgets": [],
       "schema": [
        {
         "metadata": "{}",
         "name": "path",
         "type": "\"string\""
        },
        {
         "metadata": "{}",
         "name": "name",
         "type": "\"string\""
        },
        {
         "metadata": "{}",
         "name": "size",
         "type": "\"long\""
        },
        {
         "metadata": "{}",
         "name": "modificationTime",
         "type": "\"long\""
        }
       ],
       "type": "table"
      }
     },
     "output_type": "display_data"
    }
   ],
   "source": [
    "%fs\n",
    "ls \"/mnt/electric-vehicle-data\""
   ]
  },
  {
   "cell_type": "code",
   "execution_count": null,
   "metadata": {
    "application/vnd.databricks.v1+cell": {
     "cellMetadata": {
      "byteLimit": 2048000,
      "rowLimit": 10000
     },
     "inputWidgets": {},
     "nuid": "cc1eb136-9e8d-4f89-ba30-4296d2461664",
     "showTitle": false,
     "title": ""
    }
   },
   "outputs": [],
   "source": [
    "# Read data from CSV files in the \"/mnt/raw-data/\" directory using Spark DataFrame\n",
    "\n",
    "df = spark.read.format(\"csv\").option(\"header\",\"true\").option(\"inferSchema\",\"true\").load(\"/mnt/electric-vehicle-data/raw-data/*.csv\")"
   ]
  },
  {
   "cell_type": "code",
   "execution_count": null,
   "metadata": {
    "application/vnd.databricks.v1+cell": {
     "cellMetadata": {
      "byteLimit": 2048000,
      "rowLimit": 10000
     },
     "inputWidgets": {},
     "nuid": "49b8bc13-ca75-4e87-8444-8969b238949d",
     "showTitle": false,
     "title": ""
    }
   },
   "outputs": [
    {
     "data": {
      "text/html": [
       "<div>\n",
       "<style scoped>\n",
       "    .dataframe tbody tr th:only-of-type {\n",
       "        vertical-align: middle;\n",
       "    }\n",
       "\n",
       "    .dataframe tbody tr th {\n",
       "        vertical-align: top;\n",
       "    }\n",
       "\n",
       "    .dataframe thead th {\n",
       "        text-align: right;\n",
       "    }\n",
       "</style>\n",
       "<table border=\"1\" class=\"dataframe\">\n",
       "  <thead>\n",
       "    <tr style=\"text-align: right;\">\n",
       "      <th></th>\n",
       "      <th>VIN</th>\n",
       "      <th>County</th>\n",
       "      <th>City</th>\n",
       "      <th>State</th>\n",
       "      <th>Postal_Code</th>\n",
       "      <th>Model_Year</th>\n",
       "      <th>Make</th>\n",
       "      <th>Model</th>\n",
       "      <th>Electric_Vehicle_Type</th>\n",
       "      <th>Clean_Alternative_Fuel_Vehicle_Eligibility</th>\n",
       "      <th>Electric_Range</th>\n",
       "      <th>Base_MSRP</th>\n",
       "      <th>Legislative_District</th>\n",
       "      <th>DOL_Vehicle_ID</th>\n",
       "      <th>Vehicle_Location</th>\n",
       "      <th>Electric_Utility</th>\n",
       "      <th>2020_Census_Tract</th>\n",
       "    </tr>\n",
       "  </thead>\n",
       "  <tbody>\n",
       "    <tr>\n",
       "      <th>0</th>\n",
       "      <td>SADHD2S10K</td>\n",
       "      <td>King</td>\n",
       "      <td>Kent</td>\n",
       "      <td>WA</td>\n",
       "      <td>98030.0</td>\n",
       "      <td>2019</td>\n",
       "      <td>JAGUAR</td>\n",
       "      <td>I-PACE</td>\n",
       "      <td>Battery Electric Vehicle (BEV)</td>\n",
       "      <td>Clean Alternative Fuel Vehicle Eligible</td>\n",
       "      <td>234.0</td>\n",
       "      <td>0.0</td>\n",
       "      <td>33.0</td>\n",
       "      <td>108869071</td>\n",
       "      <td>POINT (-122.199755 47.37483)</td>\n",
       "      <td>PUGET SOUND ENERGY INC||CITY OF TACOMA - (WA)</td>\n",
       "      <td>5.303303e+10</td>\n",
       "    </tr>\n",
       "    <tr>\n",
       "      <th>1</th>\n",
       "      <td>LPSED3KA7N</td>\n",
       "      <td>Kitsap</td>\n",
       "      <td>Port Orchard</td>\n",
       "      <td>WA</td>\n",
       "      <td>98366.0</td>\n",
       "      <td>2022</td>\n",
       "      <td>POLESTAR</td>\n",
       "      <td>PS2</td>\n",
       "      <td>Battery Electric Vehicle (BEV)</td>\n",
       "      <td>Eligibility unknown as battery range has not b...</td>\n",
       "      <td>0.0</td>\n",
       "      <td>0.0</td>\n",
       "      <td>26.0</td>\n",
       "      <td>203047582</td>\n",
       "      <td>POINT (-122.639265 47.5373)</td>\n",
       "      <td>PUGET SOUND ENERGY INC</td>\n",
       "      <td>5.303509e+10</td>\n",
       "    </tr>\n",
       "    <tr>\n",
       "      <th>2</th>\n",
       "      <td>WB523CF09R</td>\n",
       "      <td>King</td>\n",
       "      <td>Sammamish</td>\n",
       "      <td>WA</td>\n",
       "      <td>98075.0</td>\n",
       "      <td>2024</td>\n",
       "      <td>BMW</td>\n",
       "      <td>IX</td>\n",
       "      <td>Battery Electric Vehicle (BEV)</td>\n",
       "      <td>Eligibility unknown as battery range has not b...</td>\n",
       "      <td>0.0</td>\n",
       "      <td>0.0</td>\n",
       "      <td>41.0</td>\n",
       "      <td>256112482</td>\n",
       "      <td>POINT (-122.03309 47.58153)</td>\n",
       "      <td>PUGET SOUND ENERGY INC||CITY OF TACOMA - (WA)</td>\n",
       "      <td>5.303303e+10</td>\n",
       "    </tr>\n",
       "    <tr>\n",
       "      <th>3</th>\n",
       "      <td>WP1AE2A2XG</td>\n",
       "      <td>King</td>\n",
       "      <td>Bellevue</td>\n",
       "      <td>WA</td>\n",
       "      <td>98005.0</td>\n",
       "      <td>2016</td>\n",
       "      <td>PORSCHE</td>\n",
       "      <td>CAYENNE</td>\n",
       "      <td>Plug-in Hybrid Electric Vehicle (PHEV)</td>\n",
       "      <td>Not eligible due to low battery range</td>\n",
       "      <td>14.0</td>\n",
       "      <td>0.0</td>\n",
       "      <td>41.0</td>\n",
       "      <td>228791958</td>\n",
       "      <td>POINT (-122.16085 47.624515)</td>\n",
       "      <td>PUGET SOUND ENERGY INC||CITY OF TACOMA - (WA)</td>\n",
       "      <td>5.303302e+10</td>\n",
       "    </tr>\n",
       "    <tr>\n",
       "      <th>4</th>\n",
       "      <td>KM8KRDAF9P</td>\n",
       "      <td>Clark</td>\n",
       "      <td>Washougal</td>\n",
       "      <td>WA</td>\n",
       "      <td>98671.0</td>\n",
       "      <td>2023</td>\n",
       "      <td>HYUNDAI</td>\n",
       "      <td>IONIQ 5</td>\n",
       "      <td>Battery Electric Vehicle (BEV)</td>\n",
       "      <td>Eligibility unknown as battery range has not b...</td>\n",
       "      <td>0.0</td>\n",
       "      <td>0.0</td>\n",
       "      <td>18.0</td>\n",
       "      <td>255402899</td>\n",
       "      <td>POINT (-122.35465 45.58359)</td>\n",
       "      <td>BONNEVILLE POWER ADMINISTRATION||PUD NO 1 OF C...</td>\n",
       "      <td>5.301104e+10</td>\n",
       "    </tr>\n",
       "    <tr>\n",
       "      <th>...</th>\n",
       "      <td>...</td>\n",
       "      <td>...</td>\n",
       "      <td>...</td>\n",
       "      <td>...</td>\n",
       "      <td>...</td>\n",
       "      <td>...</td>\n",
       "      <td>...</td>\n",
       "      <td>...</td>\n",
       "      <td>...</td>\n",
       "      <td>...</td>\n",
       "      <td>...</td>\n",
       "      <td>...</td>\n",
       "      <td>...</td>\n",
       "      <td>...</td>\n",
       "      <td>...</td>\n",
       "      <td>...</td>\n",
       "      <td>...</td>\n",
       "    </tr>\n",
       "    <tr>\n",
       "      <th>173528</th>\n",
       "      <td>5YJ3E1EA0P</td>\n",
       "      <td>King</td>\n",
       "      <td>Redmond</td>\n",
       "      <td>WA</td>\n",
       "      <td>98052.0</td>\n",
       "      <td>2023</td>\n",
       "      <td>TESLA</td>\n",
       "      <td>MODEL 3</td>\n",
       "      <td>Battery Electric Vehicle (BEV)</td>\n",
       "      <td>Eligibility unknown as battery range has not b...</td>\n",
       "      <td>0.0</td>\n",
       "      <td>0.0</td>\n",
       "      <td>48.0</td>\n",
       "      <td>227238091</td>\n",
       "      <td>POINT (-122.12302 47.67668)</td>\n",
       "      <td>PUGET SOUND ENERGY INC||CITY OF TACOMA - (WA)</td>\n",
       "      <td>5.303303e+10</td>\n",
       "    </tr>\n",
       "    <tr>\n",
       "      <th>173529</th>\n",
       "      <td>5YJXCBE22H</td>\n",
       "      <td>Snohomish</td>\n",
       "      <td>Snohomish</td>\n",
       "      <td>WA</td>\n",
       "      <td>98296.0</td>\n",
       "      <td>2017</td>\n",
       "      <td>TESLA</td>\n",
       "      <td>MODEL X</td>\n",
       "      <td>Battery Electric Vehicle (BEV)</td>\n",
       "      <td>Clean Alternative Fuel Vehicle Eligible</td>\n",
       "      <td>200.0</td>\n",
       "      <td>0.0</td>\n",
       "      <td>1.0</td>\n",
       "      <td>113289473</td>\n",
       "      <td>POINT (-122.15134 47.8851158)</td>\n",
       "      <td>PUGET SOUND ENERGY INC</td>\n",
       "      <td>5.306105e+10</td>\n",
       "    </tr>\n",
       "    <tr>\n",
       "      <th>173530</th>\n",
       "      <td>1C4RJXR65R</td>\n",
       "      <td>King</td>\n",
       "      <td>Kent</td>\n",
       "      <td>WA</td>\n",
       "      <td>98031.0</td>\n",
       "      <td>2024</td>\n",
       "      <td>JEEP</td>\n",
       "      <td>WRANGLER</td>\n",
       "      <td>Plug-in Hybrid Electric Vehicle (PHEV)</td>\n",
       "      <td>Not eligible due to low battery range</td>\n",
       "      <td>21.0</td>\n",
       "      <td>0.0</td>\n",
       "      <td>33.0</td>\n",
       "      <td>257440403</td>\n",
       "      <td>POINT (-122.2012521 47.3931814)</td>\n",
       "      <td>PUGET SOUND ENERGY INC||CITY OF TACOMA - (WA)</td>\n",
       "      <td>5.303303e+10</td>\n",
       "    </tr>\n",
       "    <tr>\n",
       "      <th>173531</th>\n",
       "      <td>5UXKT0C50G</td>\n",
       "      <td>King</td>\n",
       "      <td>Seattle</td>\n",
       "      <td>WA</td>\n",
       "      <td>98199.0</td>\n",
       "      <td>2016</td>\n",
       "      <td>BMW</td>\n",
       "      <td>X5</td>\n",
       "      <td>Plug-in Hybrid Electric Vehicle (PHEV)</td>\n",
       "      <td>Not eligible due to low battery range</td>\n",
       "      <td>14.0</td>\n",
       "      <td>0.0</td>\n",
       "      <td>36.0</td>\n",
       "      <td>114351471</td>\n",
       "      <td>POINT (-122.394185 47.639195)</td>\n",
       "      <td>CITY OF SEATTLE - (WA)|CITY OF TACOMA - (WA)</td>\n",
       "      <td>5.303301e+10</td>\n",
       "    </tr>\n",
       "    <tr>\n",
       "      <th>173532</th>\n",
       "      <td>5YJSA1E5XM</td>\n",
       "      <td>King</td>\n",
       "      <td>Seattle</td>\n",
       "      <td>WA</td>\n",
       "      <td>98117.0</td>\n",
       "      <td>2021</td>\n",
       "      <td>TESLA</td>\n",
       "      <td>MODEL S</td>\n",
       "      <td>Battery Electric Vehicle (BEV)</td>\n",
       "      <td>Eligibility unknown as battery range has not b...</td>\n",
       "      <td>0.0</td>\n",
       "      <td>0.0</td>\n",
       "      <td>36.0</td>\n",
       "      <td>168927013</td>\n",
       "      <td>POINT (-122.37275 47.68968)</td>\n",
       "      <td>CITY OF SEATTLE - (WA)|CITY OF TACOMA - (WA)</td>\n",
       "      <td>5.303300e+10</td>\n",
       "    </tr>\n",
       "  </tbody>\n",
       "</table>\n",
       "<p>173533 rows × 17 columns</p>\n",
       "</div>"
      ],
      "text/plain": [
       "               VIN  ... 2020_Census_Tract\n",
       "0       SADHD2S10K  ...      5.303303e+10\n",
       "1       LPSED3KA7N  ...      5.303509e+10\n",
       "2       WB523CF09R  ...      5.303303e+10\n",
       "3       WP1AE2A2XG  ...      5.303302e+10\n",
       "4       KM8KRDAF9P  ...      5.301104e+10\n",
       "...            ...  ...               ...\n",
       "173528  5YJ3E1EA0P  ...      5.303303e+10\n",
       "173529  5YJXCBE22H  ...      5.306105e+10\n",
       "173530  1C4RJXR65R  ...      5.303303e+10\n",
       "173531  5UXKT0C50G  ...      5.303301e+10\n",
       "173532  5YJSA1E5XM  ...      5.303300e+10\n",
       "\n",
       "[173533 rows x 17 columns]"
      ]
     },
     "execution_count": 5,
     "metadata": {},
     "output_type": "execute_result"
    }
   ],
   "source": [
    "# Convert Spark DataFrame to Pandas DataFrame\n",
    "import pandas as pd\n",
    "\n",
    "df2 = df.toPandas()\n",
    "df2"
   ]
  },
  {
   "cell_type": "code",
   "execution_count": null,
   "metadata": {
    "application/vnd.databricks.v1+cell": {
     "cellMetadata": {
      "byteLimit": 2048000,
      "rowLimit": 10000
     },
     "inputWidgets": {},
     "nuid": "14daec5a-9981-442c-988f-af9f8031832b",
     "showTitle": false,
     "title": ""
    }
   },
   "outputs": [
    {
     "name": "stdout",
     "output_type": "stream",
     "text": [
      "VIN                                            object\n",
      "County                                         object\n",
      "City                                           object\n",
      "State                                          object\n",
      "Postal_Code                                   float64\n",
      "Model_Year                                      int32\n",
      "Make                                           object\n",
      "Model                                          object\n",
      "Electric_Vehicle_Type                          object\n",
      "Clean_Alternative_Fuel_Vehicle_Eligibility     object\n",
      "Electric_Range                                float64\n",
      "Base_MSRP                                     float64\n",
      "Legislative_District                          float64\n",
      "DOL_Vehicle_ID                                  int32\n",
      "Vehicle_Location                               object\n",
      "Electric_Utility                               object\n",
      "2020_Census_Tract                             float64\n",
      "dtype: object\n"
     ]
    }
   ],
   "source": [
    "print(df2.dtypes)"
   ]
  },
  {
   "cell_type": "code",
   "execution_count": null,
   "metadata": {
    "application/vnd.databricks.v1+cell": {
     "cellMetadata": {
      "byteLimit": 2048000,
      "rowLimit": 10000
     },
     "inputWidgets": {},
     "nuid": "f3452e08-2a72-4bf9-a116-75ce8f543bee",
     "showTitle": false,
     "title": ""
    }
   },
   "outputs": [],
   "source": [
    "# Change data types\n",
    "df2['Postal_Code'] = df2['Postal_Code'].astype('object')\n",
    "df2['Electric_Range'] = df2['Electric_Range'].astype('Int32')\n",
    "df2['Base_MSRP'] = df2['Base_MSRP'].astype('Int32')\n",
    "df2['Legislative_District'] = df2['Legislative_District'].astype('Int32')\n",
    "df2['2020_Census_Tract'] = df2['2020_Census_Tract'].astype('object')"
   ]
  },
  {
   "cell_type": "code",
   "execution_count": null,
   "metadata": {
    "application/vnd.databricks.v1+cell": {
     "cellMetadata": {
      "byteLimit": 2048000,
      "rowLimit": 10000
     },
     "inputWidgets": {},
     "nuid": "2e076990-84a6-429e-8594-94d5176e99f5",
     "showTitle": false,
     "title": ""
    }
   },
   "outputs": [
    {
     "name": "stdout",
     "output_type": "stream",
     "text": [
      "VIN                                           object\n",
      "County                                        object\n",
      "City                                          object\n",
      "State                                         object\n",
      "Postal_Code                                   object\n",
      "Model_Year                                     int32\n",
      "Make                                          object\n",
      "Model                                         object\n",
      "Electric_Vehicle_Type                         object\n",
      "Clean_Alternative_Fuel_Vehicle_Eligibility    object\n",
      "Electric_Range                                 Int32\n",
      "Base_MSRP                                      Int32\n",
      "Legislative_District                           Int32\n",
      "DOL_Vehicle_ID                                 int32\n",
      "Vehicle_Location                              object\n",
      "Electric_Utility                              object\n",
      "2020_Census_Tract                             object\n",
      "dtype: object\n"
     ]
    }
   ],
   "source": [
    "print(df2.dtypes)"
   ]
  },
  {
   "cell_type": "code",
   "execution_count": null,
   "metadata": {
    "application/vnd.databricks.v1+cell": {
     "cellMetadata": {
      "byteLimit": 2048000,
      "rowLimit": 10000
     },
     "inputWidgets": {},
     "nuid": "af8686ac-e6d5-4f96-9e70-1188f596a2e1",
     "showTitle": false,
     "title": ""
    }
   },
   "outputs": [
    {
     "data": {
      "text/plain": [
       "VIN                                             0\n",
       "County                                          5\n",
       "City                                            5\n",
       "State                                           0\n",
       "Postal_Code                                     5\n",
       "Model_Year                                      0\n",
       "Make                                            0\n",
       "Model                                           0\n",
       "Electric_Vehicle_Type                           0\n",
       "Clean_Alternative_Fuel_Vehicle_Eligibility      0\n",
       "Electric_Range                                  1\n",
       "Base_MSRP                                       1\n",
       "Legislative_District                          376\n",
       "DOL_Vehicle_ID                                  0\n",
       "Vehicle_Location                               10\n",
       "Electric_Utility                                5\n",
       "2020_Census_Tract                               5\n",
       "dtype: int64"
      ]
     },
     "execution_count": 9,
     "metadata": {},
     "output_type": "execute_result"
    }
   ],
   "source": [
    "# Calculate the number of missing values for each column\n",
    "df2.isnull().sum()"
   ]
  },
  {
   "cell_type": "code",
   "execution_count": null,
   "metadata": {
    "application/vnd.databricks.v1+cell": {
     "cellMetadata": {
      "byteLimit": 2048000,
      "rowLimit": 10000
     },
     "inputWidgets": {},
     "nuid": "f7c84367-a405-49d2-826d-45c7d8866b57",
     "showTitle": false,
     "title": ""
    }
   },
   "outputs": [],
   "source": [
    "# Drop rows with missing values from df2\n",
    "df2 = df2.dropna()"
   ]
  },
  {
   "cell_type": "code",
   "execution_count": null,
   "metadata": {
    "application/vnd.databricks.v1+cell": {
     "cellMetadata": {
      "byteLimit": 2048000,
      "rowLimit": 10000
     },
     "inputWidgets": {},
     "nuid": "7c11cdfb-52fd-4afb-b946-9242b61a8a08",
     "showTitle": false,
     "title": ""
    }
   },
   "outputs": [
    {
     "data": {
      "text/plain": [
       "VIN                                           0\n",
       "County                                        0\n",
       "City                                          0\n",
       "State                                         0\n",
       "Postal_Code                                   0\n",
       "Model_Year                                    0\n",
       "Make                                          0\n",
       "Model                                         0\n",
       "Electric_Vehicle_Type                         0\n",
       "Clean_Alternative_Fuel_Vehicle_Eligibility    0\n",
       "Electric_Range                                0\n",
       "Base_MSRP                                     0\n",
       "Legislative_District                          0\n",
       "DOL_Vehicle_ID                                0\n",
       "Vehicle_Location                              0\n",
       "Electric_Utility                              0\n",
       "2020_Census_Tract                             0\n",
       "dtype: int64"
      ]
     },
     "execution_count": 11,
     "metadata": {},
     "output_type": "execute_result"
    }
   ],
   "source": [
    "df2.isnull().sum()"
   ]
  },
  {
   "cell_type": "code",
   "execution_count": null,
   "metadata": {
    "application/vnd.databricks.v1+cell": {
     "cellMetadata": {
      "byteLimit": 2048000,
      "rowLimit": 10000
     },
     "inputWidgets": {},
     "nuid": "62e4f5c7-6399-4533-8ed4-0524688ea776",
     "showTitle": false,
     "title": ""
    }
   },
   "outputs": [
    {
     "data": {
      "text/plain": [
       "173151"
      ]
     },
     "execution_count": 12,
     "metadata": {},
     "output_type": "execute_result"
    }
   ],
   "source": [
    "# Calculate number of rows\n",
    "num_rows = df2.shape[0]\n",
    "num_rows"
   ]
  },
  {
   "cell_type": "code",
   "execution_count": null,
   "metadata": {
    "application/vnd.databricks.v1+cell": {
     "cellMetadata": {
      "byteLimit": 2048000,
      "rowLimit": 10000
     },
     "inputWidgets": {},
     "nuid": "2687c835-42ea-4824-a90a-c39697f4539e",
     "showTitle": false,
     "title": ""
    }
   },
   "outputs": [
    {
     "data": {
      "text/html": [
       "<div>\n",
       "<style scoped>\n",
       "    .dataframe tbody tr th:only-of-type {\n",
       "        vertical-align: middle;\n",
       "    }\n",
       "\n",
       "    .dataframe tbody tr th {\n",
       "        vertical-align: top;\n",
       "    }\n",
       "\n",
       "    .dataframe thead th {\n",
       "        text-align: right;\n",
       "    }\n",
       "</style>\n",
       "<table border=\"1\" class=\"dataframe\">\n",
       "  <thead>\n",
       "    <tr style=\"text-align: right;\">\n",
       "      <th></th>\n",
       "      <th>Model_Year</th>\n",
       "      <th>Electric_Range</th>\n",
       "      <th>Base_MSRP</th>\n",
       "      <th>Legislative_District</th>\n",
       "      <th>DOL_Vehicle_ID</th>\n",
       "    </tr>\n",
       "  </thead>\n",
       "  <tbody>\n",
       "    <tr>\n",
       "      <th>count</th>\n",
       "      <td>173151.000000</td>\n",
       "      <td>173151.000000</td>\n",
       "      <td>173151.000000</td>\n",
       "      <td>173151.000000</td>\n",
       "      <td>1.731510e+05</td>\n",
       "    </tr>\n",
       "    <tr>\n",
       "      <th>mean</th>\n",
       "      <td>2020.436989</td>\n",
       "      <td>60.135304</td>\n",
       "      <td>1110.335747</td>\n",
       "      <td>29.146987</td>\n",
       "      <td>2.188368e+08</td>\n",
       "    </tr>\n",
       "    <tr>\n",
       "      <th>std</th>\n",
       "      <td>2.994179</td>\n",
       "      <td>92.640670</td>\n",
       "      <td>8501.184324</td>\n",
       "      <td>14.871933</td>\n",
       "      <td>7.658982e+07</td>\n",
       "    </tr>\n",
       "    <tr>\n",
       "      <th>min</th>\n",
       "      <td>1997.000000</td>\n",
       "      <td>0.000000</td>\n",
       "      <td>0.000000</td>\n",
       "      <td>1.000000</td>\n",
       "      <td>4.385000e+03</td>\n",
       "    </tr>\n",
       "    <tr>\n",
       "      <th>25%</th>\n",
       "      <td>2018.000000</td>\n",
       "      <td>0.000000</td>\n",
       "      <td>0.000000</td>\n",
       "      <td>18.000000</td>\n",
       "      <td>1.802026e+08</td>\n",
       "    </tr>\n",
       "    <tr>\n",
       "      <th>50%</th>\n",
       "      <td>2022.000000</td>\n",
       "      <td>0.000000</td>\n",
       "      <td>0.000000</td>\n",
       "      <td>33.000000</td>\n",
       "      <td>2.271138e+08</td>\n",
       "    </tr>\n",
       "    <tr>\n",
       "      <th>75%</th>\n",
       "      <td>2023.000000</td>\n",
       "      <td>83.000000</td>\n",
       "      <td>0.000000</td>\n",
       "      <td>42.000000</td>\n",
       "      <td>2.530245e+08</td>\n",
       "    </tr>\n",
       "    <tr>\n",
       "      <th>max</th>\n",
       "      <td>2024.000000</td>\n",
       "      <td>337.000000</td>\n",
       "      <td>845000.000000</td>\n",
       "      <td>49.000000</td>\n",
       "      <td>4.792548e+08</td>\n",
       "    </tr>\n",
       "  </tbody>\n",
       "</table>\n",
       "</div>"
      ],
      "text/plain": [
       "          Model_Year  Electric_Range  ...  Legislative_District  DOL_Vehicle_ID\n",
       "count  173151.000000   173151.000000  ...         173151.000000    1.731510e+05\n",
       "mean     2020.436989       60.135304  ...             29.146987    2.188368e+08\n",
       "std         2.994179       92.640670  ...             14.871933    7.658982e+07\n",
       "min      1997.000000        0.000000  ...              1.000000    4.385000e+03\n",
       "25%      2018.000000        0.000000  ...             18.000000    1.802026e+08\n",
       "50%      2022.000000        0.000000  ...             33.000000    2.271138e+08\n",
       "75%      2023.000000       83.000000  ...             42.000000    2.530245e+08\n",
       "max      2024.000000      337.000000  ...             49.000000    4.792548e+08\n",
       "\n",
       "[8 rows x 5 columns]"
      ]
     },
     "execution_count": 13,
     "metadata": {},
     "output_type": "execute_result"
    }
   ],
   "source": [
    "# Calculate summary statistics for numeric columns\n",
    "df2.describe()"
   ]
  },
  {
   "cell_type": "code",
   "execution_count": null,
   "metadata": {
    "application/vnd.databricks.v1+cell": {
     "cellMetadata": {
      "byteLimit": 2048000,
      "rowLimit": 10000
     },
     "inputWidgets": {},
     "nuid": "24ad1696-b3cf-4c20-bf08-817931f4aede",
     "showTitle": false,
     "title": ""
    }
   },
   "outputs": [
    {
     "data": {
      "text/plain": [
       "Electric_Vehicle_Type\n",
       "Battery Electric Vehicle (BEV)            135364\n",
       "Plug-in Hybrid Electric Vehicle (PHEV)     37787\n",
       "dtype: int64"
      ]
     },
     "execution_count": 14,
     "metadata": {},
     "output_type": "execute_result"
    }
   ],
   "source": [
    "# Distribution of electric vehicle types\n",
    "\n",
    "# Groupby the 'Electric_Vehicle_Type' column and count the number of occurrences for each type\n",
    "ev_type_distribution = df2.groupby('Electric_Vehicle_Type').size()\n",
    "\n",
    "# Sort the groups by count in descending order\n",
    "ev_type_distribution = ev_type_distribution.sort_values(ascending=False)\n",
    "\n",
    "# Show the resulting grouped DataFrame\n",
    "ev_type_distribution"
   ]
  },
  {
   "cell_type": "code",
   "execution_count": null,
   "metadata": {
    "application/vnd.databricks.v1+cell": {
     "cellMetadata": {
      "byteLimit": 2048000,
      "rowLimit": 10000
     },
     "inputWidgets": {},
     "nuid": "aa2f7e3d-00d8-40d5-9b76-b1c96e8739cc",
     "showTitle": false,
     "title": ""
    }
   },
   "outputs": [
    {
     "data": {
      "text/plain": [
       "Model\n",
       "MODEL Y           34456\n",
       "MODEL 3           29776\n",
       "LEAF              13388\n",
       "MODEL S            7718\n",
       "BOLT EV            6647\n",
       "MODEL X            5628\n",
       "VOLT               4832\n",
       "ID.4               3811\n",
       "WRANGLER           3277\n",
       "MUSTANG MACH-E     3269\n",
       "dtype: int64"
      ]
     },
     "execution_count": 15,
     "metadata": {},
     "output_type": "execute_result"
    }
   ],
   "source": [
    "# Top 10 electric vehicle models\n",
    "\n",
    "# Group by 'Model' column and count occurrences\n",
    "top_10_models = df2.groupby('Model').size()\n",
    "\n",
    "# Sort the groups by count in descending order\n",
    "top_10_models = top_10_models.sort_values(ascending=False)\n",
    "\n",
    "# Filter the first 10 rows from the dataframe\n",
    "top_10_models = top_10_models.head(10)\n",
    "top_10_models"
   ]
  },
  {
   "cell_type": "code",
   "execution_count": null,
   "metadata": {
    "application/vnd.databricks.v1+cell": {
     "cellMetadata": {
      "byteLimit": 2048000,
      "rowLimit": 10000
     },
     "inputWidgets": {},
     "nuid": "1371e76a-1083-47c1-abfc-a195dea218c0",
     "showTitle": false,
     "title": ""
    }
   },
   "outputs": [
    {
     "data": {
      "text/plain": [
       "County\n",
       "King         90326\n",
       "Snohomish    20473\n",
       "Pierce       13508\n",
       "Clark        10154\n",
       "Thurston      6235\n",
       "Kitsap        5692\n",
       "Spokane       4473\n",
       "Whatcom       4146\n",
       "Benton        2108\n",
       "Skagit        1888\n",
       "dtype: int64"
      ]
     },
     "execution_count": 16,
     "metadata": {},
     "output_type": "execute_result"
    }
   ],
   "source": [
    "# Top 10 Counties by Electric Vehicle Count\n",
    "\n",
    "# Group by 'County' column and count occurrences\n",
    "top_10_counties = df2.groupby('County').size()\n",
    "\n",
    "# Sort the groups by count in descending order\n",
    "top_10_counties = top_10_counties.sort_values(ascending=False)\n",
    "\n",
    "# Filter the first 10 rows from the dataframe\n",
    "top_10_counties = top_10_counties.head(10)\n",
    "top_10_counties"
   ]
  },
  {
   "cell_type": "code",
   "execution_count": null,
   "metadata": {
    "application/vnd.databricks.v1+cell": {
     "cellMetadata": {
      "byteLimit": 2048000,
      "rowLimit": 10000
     },
     "inputWidgets": {},
     "nuid": "e1bbfb3e-afb6-47c2-8b30-cc89ed8955b3",
     "showTitle": false,
     "title": ""
    }
   },
   "outputs": [
    {
     "data": {
      "text/plain": [
       "City\n",
       "Seattle      28856\n",
       "Bellevue      8728\n",
       "Redmond       6288\n",
       "Vancouver     6038\n",
       "Bothell       5658\n",
       "Kirkland      5222\n",
       "Sammamish     5095\n",
       "Renton        4871\n",
       "Olympia       4174\n",
       "Tacoma        3647\n",
       "dtype: int64"
      ]
     },
     "execution_count": 17,
     "metadata": {},
     "output_type": "execute_result"
    }
   ],
   "source": [
    "# Top 10 Cities by Count of Vehicles\n",
    "\n",
    "# Group by 'City' column and count occurrences\n",
    "top_10_cities = df2.groupby('City').size()\n",
    "\n",
    "# Sort the groups by count in descending order\n",
    "top_10_cities = top_10_cities.sort_values(ascending=False)\n",
    "\n",
    "# Filter the first 10 rows from the dataframe\n",
    "top_10_cities = top_10_cities.head(10)\n",
    "top_10_cities"
   ]
  },
  {
   "cell_type": "code",
   "execution_count": null,
   "metadata": {
    "application/vnd.databricks.v1+cell": {
     "cellMetadata": {
      "byteLimit": 2048000,
      "rowLimit": 10000
     },
     "inputWidgets": {},
     "nuid": "5ee38b76-1c3f-4bc6-b745-97de32a300d1",
     "showTitle": false,
     "title": ""
    }
   },
   "outputs": [
    {
     "data": {
      "text/plain": [
       "Make\n",
       "TESLA         77624\n",
       "NISSAN        13992\n",
       "CHEVROLET     13460\n",
       "FORD           8893\n",
       "BMW            7450\n",
       "KIA            7240\n",
       "TOYOTA         6026\n",
       "VOLKSWAGEN     4876\n",
       "JEEP           4331\n",
       "HYUNDAI        4244\n",
       "dtype: int64"
      ]
     },
     "execution_count": 18,
     "metadata": {},
     "output_type": "execute_result"
    }
   ],
   "source": [
    "# Top 10 Manufacturer by Count of Vehicles\n",
    "\n",
    "# Group by 'Make' column and count occurrences\n",
    "top_10_manufacturer = df2.groupby('Make').size()\n",
    "\n",
    "# Sort the groups by count in descending order\n",
    "top_10_manufacturer = top_10_manufacturer.sort_values(ascending=False)\n",
    "\n",
    "# Filter the first 10 rows from the dataframe\n",
    "top_10_manufacturer = top_10_manufacturer.head(10)\n",
    "top_10_manufacturer"
   ]
  },
  {
   "cell_type": "code",
   "execution_count": null,
   "metadata": {
    "application/vnd.databricks.v1+cell": {
     "cellMetadata": {
      "byteLimit": 2048000,
      "rowLimit": 10000
     },
     "inputWidgets": {},
     "nuid": "da818abc-c0c6-4641-9f64-7879fbffc89c",
     "showTitle": false,
     "title": ""
    }
   },
   "outputs": [
    {
     "data": {
      "text/plain": [
       "Make\n",
       "JAGUAR                  204.105727\n",
       "WHEEGO ELECTRIC CARS         100.0\n",
       "TH!NK                        100.0\n",
       "CHEVROLET                94.756538\n",
       "FIAT                     85.621723\n",
       "NISSAN                   80.812679\n",
       "TESLA                    79.204125\n",
       "SMART                    62.339416\n",
       "AZURE DYNAMICS                56.0\n",
       "AUDI                      51.30447\n",
       "Name: Electric_Range, dtype: Float64"
      ]
     },
     "execution_count": 19,
     "metadata": {},
     "output_type": "execute_result"
    }
   ],
   "source": [
    "# Top 10 Electric Vehicle Manufacturers by Average Electric Range\n",
    "\n",
    "# Group by 'Make' column and calculate the average of 'Electric_Range' column on df2\n",
    "average_range = df2.groupby('Make')['Electric_Range'].mean()\n",
    "\n",
    "# Sort the result in descending order\n",
    "average_range = average_range.sort_values(ascending=False)\n",
    "\n",
    "# Filter the first 10 rows from the dataframe\n",
    "top_10_average_range = average_range.head(10)\n",
    "top_10_average_range"
   ]
  },
  {
   "cell_type": "code",
   "execution_count": null,
   "metadata": {
    "application/vnd.databricks.v1+cell": {
     "cellMetadata": {
      "byteLimit": 2048000,
      "rowLimit": 10000
     },
     "inputWidgets": {},
     "nuid": "0127a2da-d73f-4679-a57f-2f0b9d4aa676",
     "showTitle": false,
     "title": ""
    }
   },
   "outputs": [
    {
     "data": {
      "text/plain": [
       "Electric_Vehicle_Type\n",
       "Battery Electric Vehicle (BEV)            68.327443\n",
       "Plug-in Hybrid Electric Vehicle (PHEV)    30.788684\n",
       "Name: Electric_Range, dtype: Float64"
      ]
     },
     "execution_count": 20,
     "metadata": {},
     "output_type": "execute_result"
    }
   ],
   "source": [
    "# Average Electric Range by Electric Vehicle Type\n",
    "\n",
    "# Group by 'Electric_Vehicle_Type' column and calculate the average of 'Electric_Range'\n",
    "average_range = df2.groupby('Electric_Vehicle_Type')['Electric_Range'].mean()\n",
    "\n",
    "# Sort the result in descending order\n",
    "average_range = average_range.sort_values(ascending=False)\n",
    "average_range"
   ]
  },
  {
   "cell_type": "code",
   "execution_count": null,
   "metadata": {
    "application/vnd.databricks.v1+cell": {
     "cellMetadata": {
      "byteLimit": 2048000,
      "rowLimit": 10000
     },
     "inputWidgets": {},
     "nuid": "c5695d3e-ea31-4a91-8ff8-8387d4376747",
     "showTitle": false,
     "title": ""
    }
   },
   "outputs": [
    {
     "data": {
      "text/html": [
       "<div>\n",
       "<style scoped>\n",
       "    .dataframe tbody tr th:only-of-type {\n",
       "        vertical-align: middle;\n",
       "    }\n",
       "\n",
       "    .dataframe tbody tr th {\n",
       "        vertical-align: top;\n",
       "    }\n",
       "\n",
       "    .dataframe thead th {\n",
       "        text-align: right;\n",
       "    }\n",
       "</style>\n",
       "<table border=\"1\" class=\"dataframe\">\n",
       "  <thead>\n",
       "    <tr style=\"text-align: right;\">\n",
       "      <th></th>\n",
       "      <th>Electric_Range</th>\n",
       "      <th>Base_MSRP</th>\n",
       "    </tr>\n",
       "    <tr>\n",
       "      <th>Electric_Vehicle_Type</th>\n",
       "      <th></th>\n",
       "      <th></th>\n",
       "    </tr>\n",
       "  </thead>\n",
       "  <tbody>\n",
       "    <tr>\n",
       "      <th>Battery Electric Vehicle (BEV)</th>\n",
       "      <td>68.327443</td>\n",
       "      <td>110950</td>\n",
       "    </tr>\n",
       "    <tr>\n",
       "      <th>Plug-in Hybrid Electric Vehicle (PHEV)</th>\n",
       "      <td>30.788684</td>\n",
       "      <td>845000</td>\n",
       "    </tr>\n",
       "  </tbody>\n",
       "</table>\n",
       "</div>"
      ],
      "text/plain": [
       "                                        Electric_Range  Base_MSRP\n",
       "Electric_Vehicle_Type                                            \n",
       "Battery Electric Vehicle (BEV)               68.327443     110950\n",
       "Plug-in Hybrid Electric Vehicle (PHEV)       30.788684     845000"
      ]
     },
     "execution_count": 21,
     "metadata": {},
     "output_type": "execute_result"
    }
   ],
   "source": [
    "# Group the data by 'Electric_Vehicle_Type'\n",
    "grouped_df = df2.groupby('Electric_Vehicle_Type')\n",
    "\n",
    "# Calculate the average electric range and maximum price for each electric vehicle type\n",
    "grouped_df1 = grouped_df.agg({'Electric_Range': 'mean', 'Base_MSRP': 'max'})\n",
    "grouped_df1"
   ]
  },
  {
   "cell_type": "code",
   "execution_count": null,
   "metadata": {
    "application/vnd.databricks.v1+cell": {
     "cellMetadata": {
      "byteLimit": 2048000,
      "rowLimit": 10000
     },
     "inputWidgets": {},
     "nuid": "ba1cfe22-0fae-4663-8805-27ab16986467",
     "showTitle": false,
     "title": ""
    }
   },
   "outputs": [
    {
     "data": {
      "text/plain": [
       "Model\n",
       "KONA             258.0\n",
       "ROADSTER    234.130435\n",
       "I-PACE      204.105727\n",
       "MODEL S     177.432107\n",
       "BOLT EV     155.861893\n",
       "MODEL X     140.019723\n",
       "E-TRON      129.586654\n",
       "MODEL 3     110.607536\n",
       "E-GOLF      107.411268\n",
       "RAV4         102.54717\n",
       "Name: Electric_Range, dtype: Float64"
      ]
     },
     "execution_count": 22,
     "metadata": {},
     "output_type": "execute_result"
    }
   ],
   "source": [
    "# Top 10 Electric Vehicle Models by Average Electric Range\n",
    "\n",
    "# Group by 'Model' column and calculate the average of 'Electric_Range'\n",
    "average_range = df2.groupby('Model')['Electric_Range'].mean()\n",
    "\n",
    "# Sort the result in descending order\n",
    "average_range = average_range.sort_values(ascending=False)\n",
    "\n",
    "# Filter the first 10 rows from the dataframe\n",
    "top_10_average_range = average_range.head(10)\n",
    "top_10_average_range"
   ]
  },
  {
   "cell_type": "code",
   "execution_count": null,
   "metadata": {
    "application/vnd.databricks.v1+cell": {
     "cellMetadata": {
      "byteLimit": 2048000,
      "rowLimit": 10000
     },
     "inputWidgets": {},
     "nuid": "9b0d629e-f5f1-47ee-ad8c-21b18e708fb9",
     "showTitle": false,
     "title": ""
    }
   },
   "outputs": [
    {
     "name": "stdout",
     "output_type": "stream",
     "text": [
      "+----------+---------+-----------------+-----+-----------+----------+---------+--------+---------------------+------------------------------------------+--------------+---------+--------------------+--------------+--------------------+--------------------+-----------------+\n",
      "|       VIN|   County|             City|State|Postal_Code|Model_Year|     Make|   Model|Electric_Vehicle_Type|Clean_Alternative_Fuel_Vehicle_Eligibility|Electric_Range|Base_MSRP|Legislative_District|DOL_Vehicle_ID|    Vehicle_Location|    Electric_Utility|2020_Census_Tract|\n",
      "+----------+---------+-----------------+-----+-----------+----------+---------+--------+---------------------+------------------------------------------+--------------+---------+--------------------+--------------+--------------------+--------------------+-----------------+\n",
      "|SADHD2S10K|     King|             Kent|   WA|    98030.0|      2019|   JAGUAR|  I-PACE| Battery Electric ...|                      Clean Alternative...|           234|        0|                  33|     108869071|POINT (-122.19975...|PUGET SOUND ENERG...|  5.3033029701E10|\n",
      "|LPSED3KA7N|   Kitsap|     Port Orchard|   WA|    98366.0|      2022| POLESTAR|     PS2| Battery Electric ...|                      Eligibility unkno...|             0|        0|                  26|     203047582|POINT (-122.63926...|PUGET SOUND ENERG...|    5.30350924E10|\n",
      "|WB523CF09R|     King|        Sammamish|   WA|    98075.0|      2024|      BMW|      IX| Battery Electric ...|                      Eligibility unkno...|             0|        0|                  41|     256112482|POINT (-122.03309...|PUGET SOUND ENERG...|  5.3033032207E10|\n",
      "|WP1AE2A2XG|     King|         Bellevue|   WA|    98005.0|      2016|  PORSCHE| CAYENNE| Plug-in Hybrid El...|                      Not eligible due ...|            14|        0|                  41|     228791958|POINT (-122.16085...|PUGET SOUND ENERG...|    5.30330235E10|\n",
      "|KM8KRDAF9P|    Clark|        Washougal|   WA|    98671.0|      2023|  HYUNDAI| IONIQ 5| Battery Electric ...|                      Eligibility unkno...|             0|        0|                  18|     255402899|POINT (-122.35465...|BONNEVILLE POWER ...|  5.3011040513E10|\n",
      "|JHMZC5F39J|Snohomish|          Edmonds|   WA|    98020.0|      2018|    HONDA| CLARITY| Plug-in Hybrid El...|                      Clean Alternative...|            47|        0|                  32|     107422990|POINT (-122.37507...|PUGET SOUND ENERG...|    5.30610508E10|\n",
      "|5YJYGDEE7M|   Pierce|       Lake Tapps|   WA|    98391.0|      2021|    TESLA| MODEL Y| Battery Electric ...|                      Eligibility unkno...|             0|        0|                  31|     179364636|POINT (-122.18380...|PUGET SOUND ENERG...|  5.3053070314E10|\n",
      "|1G1FY6S09K|  Whatcom|       Bellingham|   WA|    98229.0|      2019|CHEVROLET| BOLT EV| Battery Electric ...|                      Clean Alternative...|           238|        0|                  40|     181496668|POINT (-122.45692...|PUGET SOUND ENERG...|  5.3073000904E10|\n",
      "|WA1LAAGE3M|     King|         Bellevue|   WA|    98007.0|      2021|     AUDI|  E-TRON| Battery Electric ...|                      Clean Alternative...|           222|        0|                  48|     152061752|POINT (-122.14738...|PUGET SOUND ENERG...|  5.3033022805E10|\n",
      "|KM8KNDAF7P|Snohomish|          Everett|   WA|    98201.0|      2023|  HYUNDAI| IONIQ 5| Battery Electric ...|                      Eligibility unkno...|             0|        0|                  38|     249601376|POINT (-122.20722...|PUGET SOUND ENERG...|    5.30610402E10|\n",
      "|JTMABABA3P|     King|        Shoreline|   WA|    98155.0|      2023|   SUBARU|SOLTERRA| Battery Electric ...|                      Eligibility unkno...|             0|        0|                  32|     229549806|POINT (-122.3175 ...|CITY OF SEATTLE -...|  5.3033020402E10|\n",
      "|5YJ3E1EA9P|     King|          Seattle|   WA|    98144.0|      2023|    TESLA| MODEL 3| Battery Electric ...|                      Eligibility unkno...|             0|        0|                  37|     262647171|POINT (-122.30823...|CITY OF SEATTLE -...|     5.3033009E10|\n",
      "|1G1FZ6S01N|     King|          Seattle|   WA|    98115.0|      2022|CHEVROLET| BOLT EV| Battery Electric ...|                      Eligibility unkno...|             0|        0|                  46|     208270380|POINT (-122.3185 ...|CITY OF SEATTLE -...|    5.30330026E10|\n",
      "|WA1E2AFY0L|  Whatcom|       Bellingham|   WA|    98229.0|      2020|     AUDI|    Q5 E| Plug-in Hybrid El...|                      Not eligible due ...|            20|        0|                  40|     121582226|POINT (-122.45692...|PUGET SOUND ENERG...|  5.3073000803E10|\n",
      "|5YJ3E1EB4J|   Kitsap|Bainbridge Island|   WA|    98110.0|      2018|    TESLA| MODEL 3| Battery Electric ...|                      Clean Alternative...|           215|        0|                  23|     241406630|POINT (-122.52357...|PUGET SOUND ENERG...|  5.3035091001E10|\n",
      "|5YJ3E1EB1K|     King|     Maple Valley|   WA|    98038.0|      2019|    TESLA| MODEL 3| Battery Electric ...|                      Clean Alternative...|           220|        0|                   5|     190169983|POINT (-122.05191...|PUGET SOUND ENERG...|  5.3033032003E10|\n",
      "|KNDCC3LD6K|     King|          Seattle|   WA|    98108.0|      2019|      KIA|    NIRO| Plug-in Hybrid El...|                      Not eligible due ...|            26|        0|                  37|     116868146|POINT (-122.32689...|CITY OF SEATTLE -...|  5.3033010001E10|\n",
      "|5YJYGDEE1M|     King|          Seattle|   WA|    98117.0|      2021|    TESLA| MODEL Y| Battery Electric ...|                      Eligibility unkno...|             0|        0|                  36|     166158751|POINT (-122.37275...|CITY OF SEATTLE -...|    5.30330015E10|\n",
      "|7SAYGDEE3P|     King|         Bellevue|   WA|    98008.0|      2023|    TESLA| MODEL Y| Battery Electric ...|                      Eligibility unkno...|             0|        0|                  48|     240397251|POINT (-122.11832...|PUGET SOUND ENERG...|    5.30330233E10|\n",
      "|1G1FW6S00J|  Whatcom|       Bellingham|   WA|    98225.0|      2018|CHEVROLET| BOLT EV| Battery Electric ...|                      Clean Alternative...|           238|        0|                  42|     126139632|POINT (-122.48611...|PUGET SOUND ENERG...|  5.3073000301E10|\n",
      "+----------+---------+-----------------+-----+-----------+----------+---------+--------+---------------------+------------------------------------------+--------------+---------+--------------------+--------------+--------------------+--------------------+-----------------+\n",
      "only showing top 20 rows\n",
      "\n"
     ]
    }
   ],
   "source": [
    "# Create a Spark DataFrame from df2\n",
    "df2_spark = spark.createDataFrame(df2)\n",
    "\n",
    "df2_spark.show()"
   ]
  },
  {
   "cell_type": "code",
   "execution_count": null,
   "metadata": {
    "application/vnd.databricks.v1+cell": {
     "cellMetadata": {
      "byteLimit": 2048000,
      "rowLimit": 10000
     },
     "inputWidgets": {},
     "nuid": "0bc8c08b-780d-42e1-971a-021bc5737e87",
     "showTitle": false,
     "title": ""
    }
   },
   "outputs": [],
   "source": [
    "# Write df2_spark dataframe to the specified location as CSV files, overwriting existing files\n",
    "df2_spark.write.mode(\"overwrite\").option(\"header\",'true').csv(\"/mnt/electric-vehicle-data/transformed-data\")"
   ]
  }
 ],
 "metadata": {
  "application/vnd.databricks.v1+notebook": {
   "dashboards": [],
   "language": "python",
   "notebookMetadata": {
    "mostRecentlyExecutedCommandWithImplicitDF": {
     "commandId": 920464288869537,
     "dataframes": [
      "_sqldf"
     ]
    },
    "pythonIndentUnit": 4
   },
   "notebookName": "Electric_Vehicle_Data_Transformation",
   "widgets": {}
  },
  "language_info": {
   "name": "python"
  }
 },
 "nbformat": 4,
 "nbformat_minor": 0
}
